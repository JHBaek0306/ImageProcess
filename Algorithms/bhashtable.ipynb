{
 "cells": [
  {
   "cell_type": "code",
   "execution_count": 12,
   "metadata": {},
   "outputs": [
    {
     "name": "stdout",
     "output_type": "stream",
     "text": [
      "해시 테이블 T: [9, 1, 4, 16, None]\n",
      "x=10에 대한 검색 결과: 4\n"
     ]
    }
   ],
   "source": [
    "# 해시 테이블 구축 (알고리즘 7-7)\n",
    "def build_hash_table(X, k, L):\n",
    "    T = [None] * L\n",
    "    def h(x):\n",
    "        return x % k\n",
    "    for i in range(len(X)):\n",
    "        r = 0\n",
    "        b = h(X[i])\n",
    "        while T[b] is not None:\n",
    "            r += 1\n",
    "            b = (h(X[i]) + r) % L\n",
    "        T[b] = X[i]\n",
    "    return T\n",
    "\n",
    "# 해시 테이블 검색 (알고리즘 7-8)\n",
    "def search_hash_table(T, x, k, L):\n",
    "    def h(x):\n",
    "        return x % k\n",
    "    Q = []\n",
    "    r = 0\n",
    "    b = h(x)\n",
    "    while True:\n",
    "        if T[b] is None:\n",
    "            break\n",
    "        Q.append(abs(T[b] - x))\n",
    "        if T[b] == x:\n",
    "            return x\n",
    "        r += 1\n",
    "        b = (h(x) + r) % L\n",
    "        if r >= L:\n",
    "            break\n",
    "    if not Q:\n",
    "        return None\n",
    "    min_diff = min(Q)\n",
    "    for i in range(L):\n",
    "        if T[i] is not None and abs(T[i] - x) == min_diff:\n",
    "            return T[i]\n",
    "    return None\n",
    "\n",
    "# 테스트\n",
    "X = [1, 4, 9, 16]  # 입력 데이터\n",
    "k = 3  # 해시 함수의 k\n",
    "L = 5  # 해시 테이블의 크기\n",
    "\n",
    "# 해시 테이블 구축\n",
    "T = build_hash_table(X, k, L)\n",
    "print(\"해시 테이블 T:\", T)\n",
    "\n",
    "# 해시 테이블에서 검색\n",
    "x = 10  # 검색할 값\n",
    "result = search_hash_table(T, x, k, L)\n",
    "print(f\"x={x}에 대한 검색 결과: {result}\")"
   ]
  }
 ],
 "metadata": {
  "kernelspec": {
   "display_name": "ComputerVision",
   "language": "python",
   "name": "python3"
  },
  "language_info": {
   "codemirror_mode": {
    "name": "ipython",
    "version": 3
   },
   "file_extension": ".py",
   "mimetype": "text/x-python",
   "name": "python",
   "nbconvert_exporter": "python",
   "pygments_lexer": "ipython3",
   "version": "3.12.7"
  }
 },
 "nbformat": 4,
 "nbformat_minor": 2
}
