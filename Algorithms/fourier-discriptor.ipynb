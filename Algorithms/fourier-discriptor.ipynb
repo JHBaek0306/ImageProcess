{
 "cells": [
  {
   "cell_type": "code",
   "execution_count": null,
   "metadata": {},
   "outputs": [
    {
     "name": "stdout",
     "output_type": "stream",
     "text": [
      "영상 R의 크기: (6, 21)\n",
      "푸리에 변환 결과 t의 크기: (6, 21)\n",
      "특징 벡터 X: [15562.             0.          -217.17380649  1163.51267527\n",
      "   942.91709352  -272.29742762  -211.37500952   190.57558833\n",
      "   -41.66718866  -694.96273937]\n",
      "특징 벡터 X의 길이: 10\n"
     ]
    },
    {
     "data": {
      "image/png": "[encoded data removed]",
      "text/plain": [
       "<Figure size 1000x500 with 2 Axes>"
      ]
     },
     "metadata": {},
     "output_type": "display_data"
    }
   ],
   "source": [
    "import numpy as np\n",
    "import matplotlib.pyplot as plt\n",
    "import cv2\n",
    "\n",
    "# 1. 이미지 로드 (OpenCV 사용)\n",
    "# 이미지 경로를 지정하세요 (예: 'image.jpg')\n",
    "image_path = './image/babbon.bmp'  # 실제 이미지 경로로 변경\n",
    "image = cv2.imread(image_path, cv2.IMREAD_GRAYSCALE)  # 그레이스케일로 로드\n",
    "\n",
    "# 이미지가 제대로 로드되었는지 확인\n",
    "if image is None:\n",
    "    print(\"이미지를 로드할 수 없습니다. 경로를 확인하세요.\")\n",
    "    exit()\n",
    "\n",
    "# 2. 영상 R을 크기 (6, 21)로 변환\n",
    "# OpenCV는 uint8 타입으로 이미지를 로드하므로 float32로 변환\n",
    "R = cv2.resize(image, (21, 6)).astype(np.float32)  # 크기 (6, 21)로 리사이즈\n",
    "\n",
    "# 3. 2D FFT 수행\n",
    "# NumPy의 fft2를 사용해 2D 푸리에 변환 수행\n",
    "t = np.fft.fft2(R)\n",
    "\n",
    "# 4. 특징 벡터 X 생성\n",
    "# 필요한 특징 개수 2d를 설정 (예: d=5로 설정, 따라서 2d=10)\n",
    "d = 5  # 예시로 d를 5로 설정\n",
    "X = []\n",
    "\n",
    "# t를 1D 배열로 변환 (ravel 사용)\n",
    "t_flat = t.ravel()\n",
    "\n",
    "# 실수부와 허수부를 추출해 X 생성\n",
    "for i in range(d):\n",
    "    real_part = np.real(t_flat[i])\n",
    "    imag_part = np.imag(t_flat[i])\n",
    "    X.append(real_part)\n",
    "    X.append(imag_part)\n",
    "\n",
    "X = np.array(X)  # 특징 벡터 X\n",
    "\n",
    "# 5. 결과 출력\n",
    "print(f\"영상 R의 크기: {R.shape}\")\n",
    "print(f\"푸리에 변환 결과 t의 크기: {t.shape}\")\n",
    "print(f\"특징 벡터 X: {X}\")\n",
    "print(f\"특징 벡터 X의 길이: {len(X)}\")\n",
    "\n",
    "# 6. 시각화 (Matplotlib 사용)\n",
    "# 원본 영상 R 시각화\n",
    "plt.figure(figsize=(10, 5))\n",
    "\n",
    "plt.subplot(1, 2, 1)\n",
    "plt.imshow(R, cmap='gray')\n",
    "plt.title('Input Image R (6x21)')\n",
    "plt.axis('off')\n",
    "\n",
    "# 푸리에 변환 결과의 크기(절대값) 시각화\n",
    "plt.subplot(1, 2, 2)\n",
    "plt.imshow(np.log(np.abs(t) + 1), cmap='gray')  # 로그 스케일로 시각화\n",
    "plt.title('Magnitude of FFT')\n",
    "plt.axis('off')\n",
    "\n",
    "plt.show()"
   ]
  }
 ],
 "metadata": {
  "kernelspec": {
   "display_name": "ComputerVision",
   "language": "python",
   "name": "python3"
  },
  "language_info": {
   "codemirror_mode": {
    "name": "ipython",
    "version": 3
   },
   "file_extension": ".py",
   "mimetype": "text/x-python",
   "name": "python",
   "nbconvert_exporter": "python",
   "pygments_lexer": "ipython3",
   "version": "3.12.7"
  }
 },
 "nbformat": 4,
 "nbformat_minor": 2
}
