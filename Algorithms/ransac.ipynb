{
 "cells": [
  {
   "cell_type": "code",
   "execution_count": null,
   "metadata": {},
   "outputs": [
    {
     "name": "stderr",
     "output_type": "stream",
     "text": [
      "[ WARN:0@165.385] global loadsave.cpp:241 findDecoder imread_('path_to_your_image.png'): can't open/read file: check file path/integrity\n"
     ]
    },
    {
     "ename": "AttributeError",
     "evalue": "'NoneType' object has no attribute 'shape'",
     "output_type": "error",
     "traceback": [
      "\u001b[0;31m---------------------------------------------------------------------------\u001b[0m",
      "\u001b[0;31mAttributeError\u001b[0m                            Traceback (most recent call last)",
      "Cell \u001b[0;32mIn[2], line 45\u001b[0m\n\u001b[1;32m     42\u001b[0m edges \u001b[38;5;241m=\u001b[39m cv2\u001b[38;5;241m.\u001b[39mCanny(image, \u001b[38;5;241m50\u001b[39m, \u001b[38;5;241m150\u001b[39m)\n\u001b[1;32m     44\u001b[0m \u001b[38;5;66;03m# RANSAC을 사용하여 직선 검출\u001b[39;00m\n\u001b[0;32m---> 45\u001b[0m line \u001b[38;5;241m=\u001b[39m \u001b[43mransac_line_detection\u001b[49m\u001b[43m(\u001b[49m\u001b[43medges\u001b[49m\u001b[43m)\u001b[49m\n\u001b[1;32m     47\u001b[0m \u001b[38;5;66;03m# 결과 이미지에 직선 그리기\u001b[39;00m\n\u001b[1;32m     48\u001b[0m result_image \u001b[38;5;241m=\u001b[39m cv2\u001b[38;5;241m.\u001b[39mcvtColor(edges, cv2\u001b[38;5;241m.\u001b[39mCOLOR_GRAY2BGR)\n",
      "Cell \u001b[0;32mIn[2], line 6\u001b[0m, in \u001b[0;36mransac_line_detection\u001b[0;34m(edges, num_iterations, threshold, min_inliers)\u001b[0m\n\u001b[1;32m      5\u001b[0m \u001b[38;5;28;01mdef\u001b[39;00m\u001b[38;5;250m \u001b[39m\u001b[38;5;21mransac_line_detection\u001b[39m(edges, num_iterations\u001b[38;5;241m=\u001b[39m\u001b[38;5;241m1000\u001b[39m, threshold\u001b[38;5;241m=\u001b[39m\u001b[38;5;241m2\u001b[39m, min_inliers\u001b[38;5;241m=\u001b[39m\u001b[38;5;241m50\u001b[39m):\n\u001b[0;32m----> 6\u001b[0m     height, width \u001b[38;5;241m=\u001b[39m \u001b[43medges\u001b[49m\u001b[38;5;241;43m.\u001b[39;49m\u001b[43mshape\u001b[49m\n\u001b[1;32m      7\u001b[0m     best_line \u001b[38;5;241m=\u001b[39m \u001b[38;5;28;01mNone\u001b[39;00m\n\u001b[1;32m      8\u001b[0m     best_inliers \u001b[38;5;241m=\u001b[39m \u001b[38;5;241m0\u001b[39m\n",
      "\u001b[0;31mAttributeError\u001b[0m: 'NoneType' object has no attribute 'shape'"
     ]
    }
   ],
   "source": [
    "import numpy as np\n",
    "import cv2\n",
    "import matplotlib.pyplot as plt\n",
    "\n",
    "def ransac_line_detection(edges, num_iterations=1000, threshold=2, min_inliers=50):\n",
    "    height, width = edges.shape\n",
    "    best_line = None\n",
    "    best_inliers = 0\n",
    "\n",
    "    points = np.column_stack(np.nonzero(edges))\n",
    "\n",
    "    for _ in range(num_iterations):\n",
    "        # 랜덤으로 두 점 선택\n",
    "        if len(points) < 2:\n",
    "            break\n",
    "        sample_points = points[np.random.choice(points.shape[0], 2, replace=False)]\n",
    "        p1, p2 = sample_points\n",
    "\n",
    "        # 두 점으로 직선 방정식 계산\n",
    "        if p2[0] == p1[0]:  # 수직선 처리\n",
    "            continue\n",
    "        slope = (p2[1] - p1[1]) / (p2[0] - p1[0])\n",
    "        intercept = p1[1] - slope * p1[0]\n",
    "\n",
    "        # 인라이어 계산\n",
    "        inliers = []\n",
    "        for point in points:\n",
    "            y, x = point\n",
    "            distance = abs(slope * x - y + intercept) / np.sqrt(slope**2 + 1)\n",
    "            if distance < threshold:\n",
    "                inliers.append(point)\n",
    "\n",
    "        # 인라이어 집합이 충분히 큰 경우 갱신\n",
    "        if len(inliers) > best_inliers:\n",
    "            best_inliers = len(inliers)\n",
    "            best_line = (slope, intercept)\n",
    "\n",
    "    return best_line\n",
    "\n",
    "# 이미지 로드 및 에지 검출\n",
    "image = cv2.imread('./image/babbon.bmp', cv2.IMREAD_GRAYSCALE)\n",
    "edges = cv2.Canny(image, 50, 150)\n",
    "\n",
    "# RANSAC을 사용하여 직선 검출\n",
    "line = ransac_line_detection(edges)\n",
    "\n",
    "# 결과 이미지에 직선 그리기\n",
    "result_image = cv2.cvtColor(edges, cv2.COLOR_GRAY2BGR)\n",
    "height, width = edges.shape  # 이미지의 크기 정의\n",
    "\n",
    "if line is not None:\n",
    "    slope, intercept = line\n",
    "    x1 = 0\n",
    "    y1 = int(intercept)\n",
    "    x2 = width - 1\n",
    "    y2 = int(slope * (width - 1) + intercept)\n",
    "    cv2.line(result_image, (x1, y1), (x2, y2), (0, 0, 255), 2)\n",
    "\n",
    "# 결과 출력\n",
    "plt.figure(figsize=(10, 10))\n",
    "plt.title(\"Detected Line using RANSAC\")\n",
    "plt.imshow(result_image)\n",
    "plt.axis('off')\n",
    "plt.show()\n"
   ]
  }
 ],
 "metadata": {
  "kernelspec": {
   "display_name": "ComputerVision",
   "language": "python",
   "name": "python3"
  },
  "language_info": {
   "codemirror_mode": {
    "name": "ipython",
    "version": 3
   },
   "file_extension": ".py",
   "mimetype": "text/x-python",
   "name": "python",
   "nbconvert_exporter": "python",
   "pygments_lexer": "ipython3",
   "version": "3.12.7"
  }
 },
 "nbformat": 4,
 "nbformat_minor": 2
}
