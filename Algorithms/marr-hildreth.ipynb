{
 "cells": [
  {
   "cell_type": "code",
   "execution_count": null,
   "metadata": {},
   "outputs": [
    {
     "name": "stdout",
     "output_type": "stream",
     "text": [
      "LOG 필터 결과:\n",
      "영교차 검출 결과:\n"
     ]
    },
    {
     "data": {
      "text/plain": [
       "<matplotlib.image.AxesImage at 0x13feb3890>"
      ]
     },
     "execution_count": 5,
     "metadata": {},
     "output_type": "execute_result"
    },
    {
     "data": {
      "image/png": "[encoded data removed]",
      "text/plain": [
       "<Figure size 640x480 with 1 Axes>"
      ]
     },
     "metadata": {},
     "output_type": "display_data"
    }
   ],
   "source": [
    "import numpy as np\n",
    "import cv2\n",
    "import matplotlib.pyplot as plt\n",
    "\n",
    "def gaussian_kernel(size, sigma=1):\n",
    "    kernel = np.fromfunction(\n",
    "        lambda x, y: (1 / (2 * np.pi * sigma**2)) * np.exp(-((x - (size-1)/2)**2 + (y - (size-1)/2)**2) / (2 * sigma**2)),\n",
    "        (size, size)\n",
    "    )\n",
    "    return kernel / np.sum(kernel)\n",
    "\n",
    "def apply_filter(image, kernel):\n",
    "    kernel_size = kernel.shape[0]\n",
    "    pad_size = kernel_size // 2\n",
    "    padded_image = np.pad(image, pad_size, mode='constant')\n",
    "    filtered_image = np.zeros_like(image)\n",
    "\n",
    "    for i in range(image.shape[0]):\n",
    "        for j in range(image.shape[1]):\n",
    "            region = padded_image[i:i+kernel_size, j:j+kernel_size]\n",
    "            filtered_image[i, j] = np.sum(region * kernel)\n",
    "    \n",
    "    return filtered_image\n",
    "\n",
    "def log_filter(image, sigma=1):\n",
    "    size = int(2 * np.ceil(3 * sigma) + 1)\n",
    "    gaussian = gaussian_kernel(size, sigma)\n",
    "    laplacian = np.array([[0, 1, 0], [1, -4, 1], [0, 1, 0]])\n",
    "    smooth_image = apply_filter(image, gaussian)\n",
    "    log_image = apply_filter(smooth_image, laplacian)\n",
    "    return log_image\n",
    "\n",
    "def zero_crossing(image, threshold=0):\n",
    "    zc_image = np.zeros(image.shape)\n",
    "    padded_image = np.pad(image, 1, mode='constant')\n",
    "    \n",
    "    for i in range(1, padded_image.shape[0] - 1):\n",
    "        for j in range(1, padded_image.shape[1] - 1):\n",
    "            region = padded_image[i-1:i+2, j-1:j+2]\n",
    "            center_pixel = region[1, 1]\n",
    "            if ((center_pixel > 0 and np.any(region < 0)) or (center_pixel < 0 and np.any(region > 0))) and np.max(np.abs(region)) > threshold:\n",
    "                zc_image[i-1, j-1] = 1\n",
    "    \n",
    "    return zc_image\n",
    "\n",
    "# 이미지를 불러오기\n",
    "image_path = './image/babbon.bmp' \n",
    "image = cv2.imread(image_path, cv2.IMREAD_GRAYSCALE)\n",
    "\n",
    "# LOG 필터 적용\n",
    "log_image = log_filter(image, sigma=1)\n",
    "\n",
    "# 영교차 검출\n",
    "zc_image = zero_crossing(log_image, threshold=0.02)\n",
    "\n",
    "# 결과 출력\n",
    "fig, axs = plt.subplots(1, 3, figsize=(15, 5))\n",
    "\n",
    "axs[0].imshow(image, cmap='gray')\n",
    "axs[0].set_title(\"Original Image\")\n",
    "axs[0].axis('off')\n",
    "\n",
    "axs[1].imshow(log_image, cmap='gray')\n",
    "axs[1].set_title(\"LOG Filter Result\")\n",
    "axs[1].axis('off')\n",
    "\n",
    "axs[2].imshow(zc_image, cmap='gray')\n",
    "axs[2].set_title(\"Zero Crossing Result\")\n",
    "axs[2].axis('off')\n",
    "\n",
    "plt.show()\n"
   ]
  }
 ],
 "metadata": {
  "kernelspec": {
   "display_name": "ComputerVision",
   "language": "python",
   "name": "python3"
  },
  "language_info": {
   "codemirror_mode": {
    "name": "ipython",
    "version": 3
   },
   "file_extension": ".py",
   "mimetype": "text/x-python",
   "name": "python",
   "nbconvert_exporter": "python",
   "pygments_lexer": "ipython3",
   "version": "3.12.7"
  }
 },
 "nbformat": 4,
 "nbformat_minor": 2
}
